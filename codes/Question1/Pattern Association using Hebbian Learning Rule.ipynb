{
  "nbformat": 4,
  "nbformat_minor": 0,
  "metadata": {
    "colab": {
      "name": "HW3_Question1.ipynb",
      "provenance": [],
      "collapsed_sections": []
    },
    "kernelspec": {
      "name": "python3",
      "display_name": "Python 3"
    },
    "language_info": {
      "name": "python"
    }
  },
  "cells": [
    {
      "cell_type": "code",
      "source": [
        "import numpy as np\n",
        "from matplotlib import pyplot as plt\n",
        "import random"
      ],
      "metadata": {
        "id": "jPo3Zg9JpYPj"
      },
      "execution_count": 1,
      "outputs": []
    },
    {
      "cell_type": "code",
      "source": [
        "input_1 = np.array([\n",
        "    -1,-1,-1,-1,-1,-1,1,\n",
        "    -1,-1,-1,-1,-1,-1,1,\n",
        "    1,1,1,1,1,1,1,\n",
        "    1,-1,-1,1,-1,-1,-1,\n",
        "    1,-1,-1,1,-1,-1,-1,\n",
        "    -1,-1,-1,1,-1,-1,-1,\n",
        "    -1,-1,-1,1,-1,-1,-1,\n",
        "    -1,-1,-1,1,-1,-1,-1,\n",
        "    -1,-1,-1,1,-1,-1,-1,\n",
        "])\n",
        "\n",
        "input_2 = np.array([\n",
        "    1,-1,-1,-1,-1,-1,1,\n",
        "    1,-1,-1,-1,-1,-1,1,\n",
        "    1,-1,-1,-1,-1,-1,1,\n",
        "    1,-1,-1,-1,-1,-1,1,\n",
        "    1,-1,-1,-1,-1,-1,1,\n",
        "    1,-1,-1,-1,-1,-1,1,\n",
        "    1,1,1,1,1,1,1,\n",
        "    -1,-1,-1,-1,-1,-1,-1,\n",
        "    -1,-1,-1,1,-1,-1,-1,\n",
        "])\n",
        "\n",
        "\n",
        "input_3 = np.array([\n",
        "    1,-1,-1,-1,-1,-1,1,\n",
        "    1,-1,-1,-1,-1,-1,1,\n",
        "    1,-1,-1,-1,-1,-1,1,\n",
        "    1,-1,-1,-1,-1,-1,1,\n",
        "    1,-1,-1,1,-1,-1,1,\n",
        "    1,-1,-1,-1,-1,-1,1,\n",
        "    1,-1,-1,-1,-1,-1,1,\n",
        "    1,-1,-1,-1,-1,-1,1,\n",
        "    1,1,1,1,1,1,1,\n",
        "])\n",
        "\n",
        "\n",
        "output_1 = np.array([\n",
        "    -1,-1,1,\n",
        "    1,1,1,\n",
        "    1,1,-1,\n",
        "    -1,1,-1,\n",
        "    -1,1,-1,\n",
        "])\n",
        "\n",
        "output_2 = np.array([\n",
        "    1,-1,1,\n",
        "    1,-1,1,\n",
        "    1,1,1,\n",
        "    -1,-1,-1,\n",
        "    -1,1,-1\n",
        "])\n",
        "\n",
        "output_3 = np.array([\n",
        "    1,-1,1,\n",
        "    1,-1,1,\n",
        "    1,1,1,\n",
        "    1,-1,1,\n",
        "    1,1,1\n",
        "])\n"
      ],
      "metadata": {
        "id": "4APfjxFA95F9"
      },
      "execution_count": 2,
      "outputs": []
    },
    {
      "cell_type": "code",
      "source": [
        "N = 3\n",
        "letters = [\"آ\", \"ب\", \"ن\"]"
      ],
      "metadata": {
        "id": "naU9lWzSCzJg"
      },
      "execution_count": 3,
      "outputs": []
    },
    {
      "cell_type": "code",
      "source": [
        "in1 = np.transpose([input_1])\n",
        "out1 = np.transpose([output_1], (0, 1))\n",
        "\n",
        "in2 = np.transpose([input_2])\n",
        "out2 = np.transpose([output_2], (0, 1))\n",
        "\n",
        "in3 = np.transpose([input_3])\n",
        "out3 = np.transpose([output_3], (0, 1))"
      ],
      "metadata": {
        "id": "JsKA8-nt9-rY"
      },
      "execution_count": 4,
      "outputs": []
    },
    {
      "cell_type": "code",
      "source": [
        "inputs = [in1, in2, in3]\n",
        "outputs = [out1, out2, out3]"
      ],
      "metadata": {
        "id": "2Xjpe2wkIMp4"
      },
      "execution_count": 5,
      "outputs": []
    },
    {
      "cell_type": "code",
      "source": [
        "def Activation(y):\n",
        "  out = 0\n",
        "  if (y > 0):\n",
        "    out = 1\n",
        "  else:\n",
        "      out = -1\n",
        "  return out\n"
      ],
      "metadata": {
        "id": "B8z31FvYLpPk"
      },
      "execution_count": 6,
      "outputs": []
    },
    {
      "cell_type": "code",
      "source": [
        "def weight_matrix(ins, out):\n",
        "  n = np.size(ins[0], axis = 0)\n",
        "  m = np.size(out[0], axis = 1)\n",
        "  W = np.zeros((n, m))\n",
        "  for i in range(N):\n",
        "    W = W + np.dot(ins[i], out[i])\n",
        "  return W"
      ],
      "metadata": {
        "id": "9MQAh1OLAAoY"
      },
      "execution_count": 7,
      "outputs": []
    },
    {
      "cell_type": "code",
      "source": [
        "weight = weight_matrix(inputs, outputs)\n",
        "print(weight.shape)"
      ],
      "metadata": {
        "id": "_DM9CAyQAUV2",
        "colab": {
          "base_uri": "https://localhost:8080/"
        },
        "outputId": "1e41991a-c497-4102-9169-d9fd00cf3020"
      },
      "execution_count": 8,
      "outputs": [
        {
          "output_type": "stream",
          "name": "stdout",
          "text": [
            "(63, 15)\n"
          ]
        }
      ]
    },
    {
      "cell_type": "code",
      "source": [
        "def Hebbian(ins, out, weight):\n",
        "  n = np.size(ins[0], axis = 0)\n",
        "  m = np.size(out[0], axis = 1)\n",
        "  test_output = np.zeros((N, 1, m))\n",
        "  for i in range(N):\n",
        "    S = np.transpose(ins[i])\n",
        "    Y = np.dot(S, weight)\n",
        "    for k in range(np.size(Y, axis = 1)):\n",
        "      test_output[i][0][k] = Activation(Y[0, k])\n",
        "  return test_output"
      ],
      "metadata": {
        "id": "Z94c83SIVBWE"
      },
      "execution_count": 9,
      "outputs": []
    },
    {
      "cell_type": "code",
      "source": [
        "new_output1 = np.array([1, -1, -1, 1])\n",
        "small_out1 = np.transpose([new_output1], (0, 1))\n",
        "new_output2 = np.array([1, 1, -1, -1])\n",
        "small_out2 = np.transpose([new_output2], (0, 1))\n",
        "new_output3 = np.array([1, 1, 1, -1])\n",
        "small_out3 = np.transpose([new_output3], (0, 1))\n",
        "small_outs = [small_out1, small_out2, small_out3]"
      ],
      "metadata": {
        "id": "pDluVJw7lneh"
      },
      "execution_count": 10,
      "outputs": []
    },
    {
      "cell_type": "code",
      "source": [
        "fig, ax = plt.subplots(1, 3)\n",
        "ax[0].imshow(new_output1.reshape(2, 2), cmap = \"Greys\")\n",
        "ax[0].set_title(letters[0])\n",
        "\n",
        "ax[1].imshow(new_output2.reshape(2, 2), cmap = \"Greys\")\n",
        "ax[1].set_title(letters[1])\n",
        "\n",
        "ax[2].imshow(new_output3.reshape(2, 2), cmap = \"Greys\")\n",
        "ax[2].set_title(letters[2])\n",
        "fig.suptitle(\"new small outputs\")"
      ],
      "metadata": {
        "colab": {
          "base_uri": "https://localhost:8080/",
          "height": 252
        },
        "id": "2qUxOcGgnCsc",
        "outputId": "bc6129cb-1c6e-483d-e2b8-43e0efb0d9e1"
      },
      "execution_count": 11,
      "outputs": [
        {
          "output_type": "execute_result",
          "data": {
            "text/plain": [
              "Text(0.5, 0.98, 'new small outputs')"
            ]
          },
          "metadata": {},
          "execution_count": 11
        },
        {
          "output_type": "display_data",
          "data": {
            "text/plain": [
              "<Figure size 432x288 with 3 Axes>"
            ],
            "image/png": "[encoded data removed]"
          },
          "metadata": {
            "needs_background": "light"
          }
        }
      ]
    },
    {
      "cell_type": "code",
      "source": [
        "new_weight = weight_matrix(inputs, small_outs)\n",
        "new_weight.shape"
      ],
      "metadata": {
        "colab": {
          "base_uri": "https://localhost:8080/"
        },
        "id": "_mt43wVtmXYO",
        "outputId": "60744925-0181-4a0e-ec5c-7210ecbfe081"
      },
      "execution_count": 12,
      "outputs": [
        {
          "output_type": "execute_result",
          "data": {
            "text/plain": [
              "(63, 4)"
            ]
          },
          "metadata": {},
          "execution_count": 12
        }
      ]
    },
    {
      "cell_type": "code",
      "source": [
        "#original outputs\n",
        "y = Hebbian(inputs, outputs, weight)\n",
        "final_output = [[] for i in range(N)]\n",
        "fig, ax = plt.subplots(1, 3, figsize=(6, 6))\n",
        "for i in range(N):\n",
        "  final_output[i] = y[i].reshape(5, 3)\n",
        "  ax[i].imshow(final_output[i], cmap='Greys')\n",
        "  ax[i].set_title(letters[i])\n",
        "plt.show()\n"
      ],
      "metadata": {
        "colab": {
          "base_uri": "https://localhost:8080/",
          "height": 228
        },
        "id": "oAHxlmZQPk_H",
        "outputId": "eb7c2a03-52b3-4b9f-c549-819d8e5981e3"
      },
      "execution_count": 13,
      "outputs": [
        {
          "output_type": "display_data",
          "data": {
            "text/plain": [
              "<Figure size 432x432 with 3 Axes>"
            ],
            "image/png": "[encoded data removed]"
          },
          "metadata": {
            "needs_background": "light"
          }
        }
      ]
    },
    {
      "cell_type": "code",
      "source": [
        "y = Hebbian(inputs, small_outs, new_weight)\n",
        "final_output = [[] for i in range(N)]\n",
        "fig, ax = plt.subplots(1, 3, figsize=(6, 6))\n",
        "for i in range(N):\n",
        "  final_output[i] = y[i].reshape(2, 2)\n",
        "  ax[i].imshow(final_output[i], cmap='Greys')\n",
        "  ax[i].set_title(letters[i])\n",
        "plt.show()"
      ],
      "metadata": {
        "colab": {
          "base_uri": "https://localhost:8080/",
          "height": 162
        },
        "id": "TY2QmDA-nANd",
        "outputId": "6d157982-7572-4286-b6d5-62e508a2744c"
      },
      "execution_count": 14,
      "outputs": [
        {
          "output_type": "display_data",
          "data": {
            "text/plain": [
              "<Figure size 432x432 with 3 Axes>"
            ],
            "image/png": "[encoded data removed]"
          },
          "metadata": {
            "needs_background": "light"
          }
        }
      ]
    },
    {
      "cell_type": "code",
      "source": [
        "def flip(input, idx):\n",
        "  l = len(idx)\n",
        "  out = np.copy(input)\n",
        "  for i in range(l):\n",
        "    out[idx[i]] = input[idx[i]]*-1\n",
        "  return out"
      ],
      "metadata": {
        "id": "NoTw0GwIoX5S"
      },
      "execution_count": 15,
      "outputs": []
    },
    {
      "cell_type": "code",
      "source": [
        "\n",
        "def noisy_input(input, f):\n",
        "  N = len(input)\n",
        "  out = input.copy()\n",
        "  n = int((63*f)/100)\n",
        "  for i in range(N):\n",
        "    idx = random.sample(range(63), n)\n",
        "    out[i] = flip(input[i], idx)\n",
        "  return out"
      ],
      "metadata": {
        "id": "Mj_NdIrypU5A"
      },
      "execution_count": 16,
      "outputs": []
    },
    {
      "cell_type": "code",
      "source": [
        "def zero(input, idx):\n",
        "  l = len(idx)\n",
        "  out = np.copy(input)\n",
        "  for i in range(l):\n",
        "    out[idx[i]] = 0\n",
        "  return out"
      ],
      "metadata": {
        "id": "-yt06a5YWhE8"
      },
      "execution_count": 17,
      "outputs": []
    },
    {
      "cell_type": "code",
      "source": [
        "def mis_input(input, f):\n",
        "  N = len(input)\n",
        "  out = input.copy()\n",
        "  n = int((63*f)/100)\n",
        "  for i in range(N):\n",
        "    idx = random.sample(range(63), n)\n",
        "    out[i] = zero(input[i], idx)\n",
        "  return out\n"
      ],
      "metadata": {
        "id": "dsh_o_L1WOKi"
      },
      "execution_count": 18,
      "outputs": []
    },
    {
      "cell_type": "code",
      "source": [
        "def mean_accuracy(list):\n",
        "  sum = 0\n",
        "  for i in list:\n",
        "    sum = sum + i\n",
        "  accuracy = sum/(len(list))\n",
        "  return accuracy"
      ],
      "metadata": {
        "id": "sVZj8gkG_4vU"
      },
      "execution_count": 19,
      "outputs": []
    },
    {
      "cell_type": "code",
      "source": [
        "accuracy1_a = []\n",
        "accuracy1_b = []\n",
        "accuracy1_n = []\n",
        "for i in range(100):\n",
        "  new_input = noisy_input(inputs, 20)\n",
        "  y = Hebbian(new_input, outputs, weight)\n",
        "  accuracy1_a.append((np.sum(y[0] == outputs[0])/15)*100)\n",
        "  accuracy1_b.append((np.sum(y[1] == outputs[1])/15)*100)\n",
        "  accuracy1_n.append((np.sum(y[2] == outputs[2])/15)*100)\n",
        "\n",
        "noisy_final = [[] for i in range(N)]\n",
        "fig, ax = plt.subplots(1, 3, figsize=(6, 6))\n",
        "for i in range(N):\n",
        "  noisy_final[i] = y[i].reshape(5, 3)\n",
        "  ax[i].imshow(noisy_final[i], cmap = 'Greys')\n",
        "  ax[i].set_title(letters[i])\n",
        "plt.show()"
      ],
      "metadata": {
        "colab": {
          "base_uri": "https://localhost:8080/",
          "height": 228
        },
        "id": "Ck9I8Jssn2zw",
        "outputId": "78fb21f1-e919-4590-8cef-f75fc680f873"
      },
      "execution_count": 20,
      "outputs": [
        {
          "output_type": "display_data",
          "data": {
            "text/plain": [
              "<Figure size 432x432 with 3 Axes>"
            ],
            "image/png": "[encoded data removed]"
          },
          "metadata": {
            "needs_background": "light"
          }
        }
      ]
    },
    {
      "cell_type": "code",
      "source": [
        "print('Accuracy percentages for original outpus (20% noise):')\n",
        "print(f'Accuracy percentage for 20% noise for \"آ\" is = {mean_accuracy(accuracy1_a)}')\n",
        "print(f'Accuracy percentage for 20% noise for \"ب\" is = {mean_accuracy(accuracy1_b)}')\n",
        "print(f'Accuracy percentage for 20% noise for \"ن\" is = {mean_accuracy(accuracy1_n)}')"
      ],
      "metadata": {
        "colab": {
          "base_uri": "https://localhost:8080/"
        },
        "id": "D7aSfW975gVE",
        "outputId": "183aad11-f0a4-4421-9bd3-4f59edd2e06c"
      },
      "execution_count": 21,
      "outputs": [
        {
          "output_type": "stream",
          "name": "stdout",
          "text": [
            "Accuracy percentages for original outpus (20% noise):\n",
            "Accuracy percentage for 20% noise for \"آ\" is = 99.46666666666665\n",
            "Accuracy percentage for 20% noise for \"ب\" is = 100.0\n",
            "Accuracy percentage for 20% noise for \"ن\" is = 96.26666666666668\n"
          ]
        }
      ]
    },
    {
      "cell_type": "code",
      "source": [
        "Saccuracy1_a = []\n",
        "Saccuracy1_b = []\n",
        "Saccuracy1_n = []\n",
        "for i in range(100):\n",
        "  new_input = noisy_input(inputs, 20)\n",
        "  y = Hebbian(new_input, small_outs, new_weight)\n",
        "  Saccuracy1_a.append((np.sum(y[0] == small_outs[0])/4)*100)\n",
        "  Saccuracy1_b.append((np.sum(y[1] == small_outs[1])/4)*100)\n",
        "  Saccuracy1_n.append((np.sum(y[2] == small_outs[2])/4)*100)\n",
        "\n",
        "noisy_final = [[] for i in range(N)]\n",
        "fig, ax = plt.subplots(1, 3, figsize=(6, 6))\n",
        "for i in range(N):\n",
        "  noisy_final[i] = y[i].reshape(2, 2)\n",
        "  ax[i].imshow(noisy_final[i], cmap = 'Greys')\n",
        "  ax[i].set_title(letters[i])\n",
        "plt.show()"
      ],
      "metadata": {
        "colab": {
          "base_uri": "https://localhost:8080/",
          "height": 162
        },
        "id": "cP3imprhAwif",
        "outputId": "5593ce8b-f0e6-49d4-f285-117031aaff31"
      },
      "execution_count": 22,
      "outputs": [
        {
          "output_type": "display_data",
          "data": {
            "text/plain": [
              "<Figure size 432x432 with 3 Axes>"
            ],
            "image/png": "[encoded data removed]"
          },
          "metadata": {
            "needs_background": "light"
          }
        }
      ]
    },
    {
      "cell_type": "code",
      "source": [
        "print('Accuracy percentages for small outpus (20% noise):')\n",
        "print(f'Accuracy percentage for 20% noise for \"آ\" is = {mean_accuracy(Saccuracy1_a)}')\n",
        "print(f'Accuracy percentage for 20% noise for \"ب\" is = {mean_accuracy(Saccuracy1_b)}')\n",
        "print(f'Accuracy percentage for 20% noise for \"ن\" is = {mean_accuracy(Saccuracy1_n)}')"
      ],
      "metadata": {
        "colab": {
          "base_uri": "https://localhost:8080/"
        },
        "id": "8amr53GHBk0d",
        "outputId": "d2bc3c9b-f0fd-475b-c365-b386c2c97d9f"
      },
      "execution_count": 23,
      "outputs": [
        {
          "output_type": "stream",
          "name": "stdout",
          "text": [
            "Accuracy percentages for small outpus (20% noise):\n",
            "Accuracy percentage for 20% noise for \"آ\" is = 98.5\n",
            "Accuracy percentage for 20% noise for \"ب\" is = 100.0\n",
            "Accuracy percentage for 20% noise for \"ن\" is = 96.0\n"
          ]
        }
      ]
    },
    {
      "cell_type": "code",
      "source": [
        "accuracy2_a = []\n",
        "accuracy2_b = []\n",
        "accuracy2_n = []\n",
        "for i in range(100):\n",
        "  new_input = noisy_input(inputs, 60)\n",
        "  y = Hebbian(new_input, outputs, weight)\n",
        "  accuracy2_a.append((np.sum(y[0] == outputs[0])/15)*100)\n",
        "  accuracy2_b.append((np.sum(y[1] == outputs[1])/15)*100)\n",
        "  accuracy2_n.append((np.sum(y[2] == outputs[2])/15)*100)\n",
        "\n",
        "noisy_final = [[] for i in range(N)]\n",
        "fig, ax = plt.subplots(1, 3, figsize=(6, 6))\n",
        "for i in range(N):\n",
        "  noisy_final[i] = y[i].reshape(5, 3)\n",
        "  ax[i].imshow(noisy_final[i], cmap = 'Greys')\n",
        "  ax[i].set_title(letters[i])\n",
        "plt.show()"
      ],
      "metadata": {
        "id": "rorh04pJ56xt",
        "colab": {
          "base_uri": "https://localhost:8080/",
          "height": 228
        },
        "outputId": "5391a340-690a-4505-ab5d-20a25c0272a2"
      },
      "execution_count": 24,
      "outputs": [
        {
          "output_type": "display_data",
          "data": {
            "text/plain": [
              "<Figure size 432x432 with 3 Axes>"
            ],
            "image/png": "[encoded data removed]"
          },
          "metadata": {
            "needs_background": "light"
          }
        }
      ]
    },
    {
      "cell_type": "code",
      "source": [
        "print('Accuracy percentages for original outpus (60% noise):')\n",
        "print(f'Accuracy percentage for 60% noise for \"آ\" is = {mean_accuracy(accuracy2_a)}')\n",
        "print(f'Accuracy percentage for 60% noise for \"ب\" is = {mean_accuracy(accuracy2_b)}')\n",
        "print(f'Accuracy percentage for 60% noise for \"ن\" is = {mean_accuracy(accuracy2_n)}')"
      ],
      "metadata": {
        "colab": {
          "base_uri": "https://localhost:8080/"
        },
        "id": "gDOXBYm8V1SO",
        "outputId": "c7735fb2-faa4-4090-ec26-65dddf372e83"
      },
      "execution_count": 25,
      "outputs": [
        {
          "output_type": "stream",
          "name": "stdout",
          "text": [
            "Accuracy percentages for original outpus (60% noise):\n",
            "Accuracy percentage for 60% noise for \"آ\" is = 16.266666666666673\n",
            "Accuracy percentage for 60% noise for \"ب\" is = 5.866666666666667\n",
            "Accuracy percentage for 60% noise for \"ن\" is = 17.333333333333346\n"
          ]
        }
      ]
    },
    {
      "cell_type": "code",
      "source": [
        "Saccuracy2_a = []\n",
        "Saccuracy2_b = []\n",
        "Saccuracy2_n = []\n",
        "for i in range(100):\n",
        "  new_input = noisy_input(inputs, 60)\n",
        "  y = Hebbian(new_input, small_outs, new_weight)\n",
        "  Saccuracy2_a.append((np.sum(y[0] == small_outs[0])/4)*100)\n",
        "  Saccuracy2_b.append((np.sum(y[1] == small_outs[1])/4)*100)\n",
        "  Saccuracy2_n.append((np.sum(y[2] == small_outs[2])/4)*100)\n",
        "\n",
        "noisy_final = [[] for i in range(N)]\n",
        "fig, ax = plt.subplots(1, 3, figsize=(6, 6))\n",
        "for i in range(N):\n",
        "  noisy_final[i] = y[i].reshape(2, 2)\n",
        "  ax[i].imshow(noisy_final[i], cmap = 'Greys')\n",
        "  ax[i].set_title(letters[i])\n",
        "plt.show()"
      ],
      "metadata": {
        "colab": {
          "base_uri": "https://localhost:8080/",
          "height": 162
        },
        "id": "0nspaM-gB3SS",
        "outputId": "c74a046f-996d-448f-88f4-c2312125f3e7"
      },
      "execution_count": 26,
      "outputs": [
        {
          "output_type": "display_data",
          "data": {
            "text/plain": [
              "<Figure size 432x432 with 3 Axes>"
            ],
            "image/png": "[encoded data removed]"
          },
          "metadata": {
            "needs_background": "light"
          }
        }
      ]
    },
    {
      "cell_type": "code",
      "source": [
        "print('Accuracy percentages for small outpus (60% noise):')\n",
        "print(f'Accuracy percentage for 60% noise for \"آ\" is = {mean_accuracy(Saccuracy2_a)}')\n",
        "print(f'Accuracy percentage for 60% noise for \"ب\" is = {mean_accuracy(Saccuracy2_b)}')\n",
        "print(f'Accuracy percentage for 60% noise for \"ن\" is = {mean_accuracy(Saccuracy2_n)}')"
      ],
      "metadata": {
        "colab": {
          "base_uri": "https://localhost:8080/"
        },
        "id": "bKcg_bXtDkUW",
        "outputId": "e5746507-3844-40a9-af8e-6a3640c9fa93"
      },
      "execution_count": 27,
      "outputs": [
        {
          "output_type": "stream",
          "name": "stdout",
          "text": [
            "Accuracy percentages for small outpus (60% noise):\n",
            "Accuracy percentage for 60% noise for \"آ\" is = 18.0\n",
            "Accuracy percentage for 60% noise for \"ب\" is = 12.0\n",
            "Accuracy percentage for 60% noise for \"ن\" is = 15.25\n"
          ]
        }
      ]
    },
    {
      "cell_type": "code",
      "source": [
        "accuracy3_a = []\n",
        "accuracy3_b = []\n",
        "accuracy3_n = []\n",
        "for i in range(100):\n",
        "  new_input = mis_input(inputs, 20)\n",
        "  y = Hebbian(new_input, outputs, weight)\n",
        "  accuracy3_a.append((np.sum(y[0] == outputs[0])/15)*100)\n",
        "  accuracy3_b.append((np.sum(y[1] == outputs[1])/15)*100)\n",
        "  accuracy3_n.append((np.sum(y[2] == outputs[2])/15)*100)\n",
        "\n",
        "miss_final = [[] for i in range(N)]\n",
        "fig, ax = plt.subplots(1, 3, figsize=(6, 6))\n",
        "for i in range(N):\n",
        "  miss_final[i] = y[i].reshape(5, 3)\n",
        "  ax[i].imshow(miss_final[i], cmap = 'Greys')\n",
        "  ax[i].set_title(letters[i])\n",
        "plt.show()"
      ],
      "metadata": {
        "colab": {
          "base_uri": "https://localhost:8080/",
          "height": 228
        },
        "id": "DSyQxD8RWHjK",
        "outputId": "6281f813-3b40-4259-ca74-28a3f00fe7a1"
      },
      "execution_count": 28,
      "outputs": [
        {
          "output_type": "display_data",
          "data": {
            "text/plain": [
              "<Figure size 432x432 with 3 Axes>"
            ],
            "image/png": "[encoded data removed]"
          },
          "metadata": {
            "needs_background": "light"
          }
        }
      ]
    },
    {
      "cell_type": "code",
      "source": [
        "print('Accuracy percentages for original outpus (20% missing):')\n",
        "print(f'Accuracy percentage for 20% missing for \"آ\" is = {mean_accuracy(accuracy3_a)}')\n",
        "print(f'Accuracy percentage for 20% missing for \"ب\" is = {mean_accuracy(accuracy3_b)}')\n",
        "print(f'Accuracy percentage for 20% missing for \"ن\" is = {mean_accuracy(accuracy3_n)}')\n"
      ],
      "metadata": {
        "colab": {
          "base_uri": "https://localhost:8080/"
        },
        "id": "lKhrZ-0BXD-x",
        "outputId": "fc287886-d257-4add-88a4-aa95bdcc9c22"
      },
      "execution_count": 29,
      "outputs": [
        {
          "output_type": "stream",
          "name": "stdout",
          "text": [
            "Accuracy percentages for original outpus (20% missing):\n",
            "Accuracy percentage for 20% missing for \"آ\" is = 100.0\n",
            "Accuracy percentage for 20% missing for \"ب\" is = 100.0\n",
            "Accuracy percentage for 20% missing for \"ن\" is = 100.0\n"
          ]
        }
      ]
    },
    {
      "cell_type": "code",
      "source": [
        "Saccuracy3_a = []\n",
        "Saccuracy3_b = []\n",
        "Saccuracy3_n = []\n",
        "for i in range(100):\n",
        "  new_input = mis_input(inputs, 20)\n",
        "  y = Hebbian(new_input, small_outs, new_weight)\n",
        "  Saccuracy3_a.append((np.sum(y[0] == small_outs[0])/4)*100)\n",
        "  Saccuracy3_b.append((np.sum(y[1] == small_outs[1])/4)*100)\n",
        "  Saccuracy3_n.append((np.sum(y[2] == small_outs[2])/4)*100)\n",
        "\n",
        "miss_final = [[] for i in range(N)]\n",
        "fig, ax = plt.subplots(1, 3, figsize=(6, 6))\n",
        "for i in range(N):\n",
        "  miss_final[i] = y[i].reshape(2, 2)\n",
        "  ax[i].imshow(miss_final[i], cmap = 'Greys')\n",
        "  ax[i].set_title(letters[i])\n",
        "plt.show()"
      ],
      "metadata": {
        "colab": {
          "base_uri": "https://localhost:8080/",
          "height": 162
        },
        "id": "dDkZpbDeEE2E",
        "outputId": "60b88a9d-ce64-4309-e743-54d630094c7b"
      },
      "execution_count": 30,
      "outputs": [
        {
          "output_type": "display_data",
          "data": {
            "text/plain": [
              "<Figure size 432x432 with 3 Axes>"
            ],
            "image/png": "[encoded data removed]"
          },
          "metadata": {
            "needs_background": "light"
          }
        }
      ]
    },
    {
      "cell_type": "code",
      "source": [
        "print('Accuracy percentages for small outpus (20% missing):')\n",
        "print(f'Accuracy percentage for 20% missing for \"آ\" is = {mean_accuracy(Saccuracy3_a)}')\n",
        "print(f'Accuracy percentage for 20% missing for \"ب\" is = {mean_accuracy(Saccuracy3_b)}')\n",
        "print(f'Accuracy percentage for 20% missing for \"ن\" is = {mean_accuracy(Saccuracy3_n)}')"
      ],
      "metadata": {
        "colab": {
          "base_uri": "https://localhost:8080/"
        },
        "id": "X-BxGHLbEMuw",
        "outputId": "3ab8ff52-d159-486e-f0c7-624f4df7d5f6"
      },
      "execution_count": 31,
      "outputs": [
        {
          "output_type": "stream",
          "name": "stdout",
          "text": [
            "Accuracy percentages for small outpus (20% missing):\n",
            "Accuracy percentage for 20% missing for \"آ\" is = 100.0\n",
            "Accuracy percentage for 20% missing for \"ب\" is = 100.0\n",
            "Accuracy percentage for 20% missing for \"ن\" is = 99.75\n"
          ]
        }
      ]
    },
    {
      "cell_type": "code",
      "source": [
        "accuracy4_a = []\n",
        "accuracy4_b = []\n",
        "accuracy4_n = []\n",
        "for i in range(100):\n",
        "  new_input = mis_input(inputs, 60)\n",
        "  y = Hebbian(new_input, outputs, weight)\n",
        "  accuracy4_a.append((np.sum(y[0] == outputs[0])/15)*100)\n",
        "  accuracy4_b.append((np.sum(y[1] == outputs[1])/15)*100)\n",
        "  accuracy4_n.append((np.sum(y[2] == outputs[2])/15)*100)\n",
        "\n",
        "miss_final = [[] for i in range(N)]\n",
        "fig, ax = plt.subplots(1, 3, figsize=(6, 6))\n",
        "for i in range(N):\n",
        "  miss_final[i] = y[i].reshape(5, 3)\n",
        "  ax[i].imshow(miss_final[i], cmap = 'Greys')\n",
        "  ax[i].set_title(letters[i])\n",
        "plt.show()"
      ],
      "metadata": {
        "colab": {
          "base_uri": "https://localhost:8080/",
          "height": 228
        },
        "id": "5hWLIiyeXqOc",
        "outputId": "3125f697-f023-4cd0-9320-6f2b92c0cd33"
      },
      "execution_count": 32,
      "outputs": [
        {
          "output_type": "display_data",
          "data": {
            "text/plain": [
              "<Figure size 432x432 with 3 Axes>"
            ],
            "image/png": "[encoded data removed]"
          },
          "metadata": {
            "needs_background": "light"
          }
        }
      ]
    },
    {
      "cell_type": "code",
      "source": [
        "print('Accuracy percentages for original outpus (60% missing):')\n",
        "print(f'Accuracy percentage for 60% missing for \"آ\" is = {mean_accuracy(accuracy4_a)}')\n",
        "print(f'Accuracy percentage for 60% missing for \"ب\" is = {mean_accuracy(accuracy4_b)}')\n",
        "print(f'Accuracy percentage for 60% missing for \"ن\" is = {mean_accuracy(accuracy4_n)}')"
      ],
      "metadata": {
        "colab": {
          "base_uri": "https://localhost:8080/"
        },
        "id": "MkGladUtcsYU",
        "outputId": "71d1d71e-7670-402e-bf36-88119bb31ce3"
      },
      "execution_count": 33,
      "outputs": [
        {
          "output_type": "stream",
          "name": "stdout",
          "text": [
            "Accuracy percentages for original outpus (60% missing):\n",
            "Accuracy percentage for 60% missing for \"آ\" is = 98.8\n",
            "Accuracy percentage for 60% missing for \"ب\" is = 100.0\n",
            "Accuracy percentage for 60% missing for \"ن\" is = 91.73333333333332\n"
          ]
        }
      ]
    },
    {
      "cell_type": "code",
      "source": [
        "Saccuracy4_a = []\n",
        "Saccuracy4_b = []\n",
        "Saccuracy4_n = []\n",
        "for i in range(100):\n",
        "  new_input = mis_input(inputs, 20)\n",
        "  y = Hebbian(new_input, small_outs, new_weight)\n",
        "  Saccuracy4_a.append((np.sum(y[0] == small_outs[0])/4)*100)\n",
        "  Saccuracy4_b.append((np.sum(y[1] == small_outs[1])/4)*100)\n",
        "  Saccuracy4_n.append((np.sum(y[2] == small_outs[2])/4)*100)\n",
        "\n",
        "miss_final = [[] for i in range(N)]\n",
        "fig, ax = plt.subplots(1, 3, figsize=(6, 6))\n",
        "for i in range(N):\n",
        "  miss_final[i] = y[i].reshape(2, 2)\n",
        "  ax[i].imshow(miss_final[i], cmap = 'Greys')\n",
        "  ax[i].set_title(letters[i])\n",
        "plt.show()"
      ],
      "metadata": {
        "colab": {
          "base_uri": "https://localhost:8080/",
          "height": 162
        },
        "id": "J18qvhxvF3h4",
        "outputId": "3693c364-cd2d-4469-cee2-6ee9dccad65e"
      },
      "execution_count": 34,
      "outputs": [
        {
          "output_type": "display_data",
          "data": {
            "text/plain": [
              "<Figure size 432x432 with 3 Axes>"
            ],
            "image/png": "[encoded data removed]"
          },
          "metadata": {
            "needs_background": "light"
          }
        }
      ]
    },
    {
      "cell_type": "code",
      "source": [
        "print('Accuracy percentages for small outpus (60% missing):')\n",
        "print(f'Accuracy percentage for 20% missing for \"آ\" is = {mean_accuracy(Saccuracy4_a)}')\n",
        "print(f'Accuracy percentage for 20% missing for \"ب\" is = {mean_accuracy(Saccuracy4_b)}')\n",
        "print(f'Accuracy percentage for 20% missing for \"ن\" is = {mean_accuracy(Saccuracy4_n)}')"
      ],
      "metadata": {
        "colab": {
          "base_uri": "https://localhost:8080/"
        },
        "id": "oXOX01seF_rZ",
        "outputId": "81909bd6-b399-4b86-813e-86d817c562d1"
      },
      "execution_count": 35,
      "outputs": [
        {
          "output_type": "stream",
          "name": "stdout",
          "text": [
            "Accuracy percentages for small outpus (60% missing):\n",
            "Accuracy percentage for 20% missing for \"آ\" is = 100.0\n",
            "Accuracy percentage for 20% missing for \"ب\" is = 100.0\n",
            "Accuracy percentage for 20% missing for \"ن\" is = 100.0\n"
          ]
        }
      ]
    }
  ]
}