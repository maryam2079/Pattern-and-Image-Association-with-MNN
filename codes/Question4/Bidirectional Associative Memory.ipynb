{
  "nbformat": 4,
  "nbformat_minor": 0,
  "metadata": {
    "colab": {
      "name": "HW3_Question4.ipynb",
      "provenance": [],
      "collapsed_sections": []
    },
    "kernelspec": {
      "name": "python3",
      "display_name": "Python 3"
    },
    "language_info": {
      "name": "python"
    }
  },
  "cells": [
    {
      "cell_type": "code",
      "execution_count": 1,
      "metadata": {
        "id": "GwBjiFq0jOfn"
      },
      "outputs": [],
      "source": [
        "import numpy as np\n",
        "import random\n",
        "import matplotlib as plt\n"
      ]
    },
    {
      "cell_type": "code",
      "source": [
        "clinton = np.array([1,0,0,0,0,1,1,1,1,0,1,1,0,0,1,1,0,1,0,0,1,1,1,0,1,1,1,0,1,1,1,0,1,0,0,1,1,0,1,1,1,1,1,1,0,1,1,1,0])\n",
        "x1 = np.where(clinton == 0, -1, clinton)\n",
        "hillary = np.array([1,0,0,1,0,0,0,1,1,0,1,0,0,1,1,1,0,1,1,0,0,1,1,0,1,1,0,0,1,1,0,0,0,0,1,1,1,1,0,0,1,0,1,1,1,1,0,0,1])\n",
        "x2 = np.where(hillary == 0, -1, hillary)\n",
        "kenster = np.array([1,0,0,1,0,1,1,1,1,0,0,1,0,1,1,1,0,1,1,1,0,1,1,1,0,0,1,1,1,1,1,0,1,0,0,1,1,0,0,0,0,1,1,1,1,0,0,1,0])\n",
        "x3 = np.where(kenster == 0, -1, kenster)\n"
      ],
      "metadata": {
        "id": "RPwFjWCjpIBO"
      },
      "execution_count": 2,
      "outputs": []
    },
    {
      "cell_type": "code",
      "source": [
        "president = np.array([1,0,1,0,0,0,0,1,1,1,0,0,1,0,1,1,0,0,1,0,1,1,1,1,0,0,1,1,1,1,0,1,0,0,1,1,1,0,0,1,0,0,1,1,0,0,1,0,1,1,1,0,1,1,1,0,1,1,1,0,1,0,0])\n",
        "y1 = np.where(president == 0, -1, president)\n",
        "firstlady = np.array([1,0,0,0,1,1,0,1,1,0,1,0,0,1,1,1,1,0,0,1,0,1,1,1,0,0,1,1,1,1,1,0,1,0,0,1,0,0,1,1,0,0,1,1,0,0,0,0,1,1,1,0,0,1,0,0,1,1,1,1,0,0,1])\n",
        "y2 = np.where(firstlady == 0, -1, firstlady)\n",
        "gentelman  = np.array([1,0,0,0,1,1,1,1,1,0,0,1,0,1,1,1,0,1,1,1,0,1,1,1,0,1,0,0,1,1,0,1,1,0,0,1,1,0,0,1,0,1,1,1,0,1,1,0,1,1,1,0,0,0,0,1,1,1,0,1,1,1,0])\n",
        "y3 = np.where(gentelman == 0, -1, gentelman)\n"
      ],
      "metadata": {
        "id": "KqAxhLpapTXz"
      },
      "execution_count": 3,
      "outputs": []
    },
    {
      "cell_type": "code",
      "source": [
        "X1 = np.transpose([x1])\n",
        "Y1 = np.transpose([y1], (0, 1))\n",
        "\n",
        "X2 = np.transpose([x2])\n",
        "Y2 = np.transpose([y2], (0, 1))\n",
        "\n",
        "X3 = np.transpose([x3])\n",
        "Y3 = np.transpose([y3], (0, 1))\n"
      ],
      "metadata": {
        "id": "Pb91PFE4v95Q"
      },
      "execution_count": 4,
      "outputs": []
    },
    {
      "cell_type": "code",
      "source": [
        "W = np.dot(X1, Y1) + np.dot(X2, Y2) + np.dot(X3, Y3)\n",
        "W"
      ],
      "metadata": {
        "colab": {
          "base_uri": "https://localhost:8080/"
        },
        "id": "2uZHPodN1p2A",
        "outputId": "2f427248-a158-41f7-a859-a2521d2f397e"
      },
      "execution_count": 5,
      "outputs": [
        {
          "output_type": "execute_result",
          "data": {
            "text/plain": [
              "array([[ 3, -3, -1, ...,  1, -1, -1],\n",
              "       [-3,  3,  1, ..., -1,  1,  1],\n",
              "       [-3,  3,  1, ..., -1,  1,  1],\n",
              "       ...,\n",
              "       [-1,  1,  3, ...,  1, -1, -1],\n",
              "       [ 1, -1,  1, ...,  3,  1, -3],\n",
              "       [-1,  1, -1, ..., -3, -1,  3]])"
            ]
          },
          "metadata": {},
          "execution_count": 5
        }
      ]
    },
    {
      "cell_type": "code",
      "source": [
        "def Activation(y):\n",
        "  out = 0\n",
        "  if (y > 0):\n",
        "    out = 1\n",
        "  else:\n",
        "      out = -1\n",
        "  return out\n"
      ],
      "metadata": {
        "id": "sgWHQqJWqe3P"
      },
      "execution_count": 6,
      "outputs": []
    },
    {
      "cell_type": "code",
      "source": [
        "#Clinton-President\n",
        "t_in = np.dot(np.transpose(X1), W)\n",
        "output = np.zeros((1, 63))\n",
        "output = np.where(t_in > 0, 1, -1)\n",
        "if(np.array_equal(output, Y1)):\n",
        "  print(\"Works correctly for Clinton-President pair (Y detecting)\")\n"
      ],
      "metadata": {
        "colab": {
          "base_uri": "https://localhost:8080/"
        },
        "id": "r08gy6ElvEI1",
        "outputId": "4fa0b3e7-dc42-43fa-82e9-e35a315edbed"
      },
      "execution_count": 7,
      "outputs": [
        {
          "output_type": "stream",
          "name": "stdout",
          "text": [
            "Works correctly for Clinton-President pair (Y detecting)\n"
          ]
        }
      ]
    },
    {
      "cell_type": "code",
      "source": [
        "#Clinton-President\n",
        "t_in = np.dot(Y1, W.T)\n",
        "output = np.zeros((1, 49))\n",
        "output = np.where(t_in > 0, 1, -1)\n",
        "if(np.array_equal(output, np.transpose(X1))):\n",
        "  print(\"Works correctly for Clinton-President pair (X detecting)\")"
      ],
      "metadata": {
        "colab": {
          "base_uri": "https://localhost:8080/"
        },
        "id": "17B_KPNWze3n",
        "outputId": "05d36ad3-2cfa-4633-d578-7daeec8321e8"
      },
      "execution_count": 8,
      "outputs": [
        {
          "output_type": "stream",
          "name": "stdout",
          "text": [
            "Works correctly for Clinton-President pair (X detecting)\n"
          ]
        }
      ]
    },
    {
      "cell_type": "code",
      "source": [
        "#Hillay-FirstLady\n",
        "t_in = np.dot(np.transpose(X2), W)\n",
        "output = np.zeros((1, 63))\n",
        "output = np.where(t_in > 0, 1, -1)\n",
        "if(np.array_equal(output, Y2)):\n",
        "  print(\"Works correctly for Hillay-FirstLady pair (Y Detecting)\")"
      ],
      "metadata": {
        "colab": {
          "base_uri": "https://localhost:8080/"
        },
        "id": "gBvO13m_HfTd",
        "outputId": "9286fe5a-d047-48ee-f271-74843366c617"
      },
      "execution_count": 9,
      "outputs": [
        {
          "output_type": "stream",
          "name": "stdout",
          "text": [
            "Works correctly for Hillay-FirstLady pair (Y Detecting)\n"
          ]
        }
      ]
    },
    {
      "cell_type": "code",
      "source": [
        "#Hillay-FirstLady\n",
        "t_in = np.dot(Y2, W.T)\n",
        "output = np.zeros((1, 49))\n",
        "output = np.where(t_in > 0, 1, -1)\n",
        "if(np.array_equal(output, np.transpose(X2))):\n",
        "  print(\"Works correctly for Hillay-FirstLady pair (X detecting)\")"
      ],
      "metadata": {
        "colab": {
          "base_uri": "https://localhost:8080/"
        },
        "id": "OKgkAmbw24KJ",
        "outputId": "d021cb6e-8a17-47e4-d865-5a88a86d7825"
      },
      "execution_count": 10,
      "outputs": [
        {
          "output_type": "stream",
          "name": "stdout",
          "text": [
            "Works correctly for Hillay-FirstLady pair (X detecting)\n"
          ]
        }
      ]
    },
    {
      "cell_type": "code",
      "source": [
        "#Kenstar-Gentelman\n",
        "t_in = np.dot(np.transpose(X2), W)\n",
        "output = np.zeros((1, 63))\n",
        "output = np.where(t_in > 0, 1, -1)\n",
        "if(np.array_equal(output, Y2)):\n",
        "  print(\"Works correctly for Kenstar-Gentelman pair (Y Detecting)\")"
      ],
      "metadata": {
        "colab": {
          "base_uri": "https://localhost:8080/"
        },
        "id": "zH2YZTjNJoH2",
        "outputId": "20ecce39-e96e-4341-d971-1d4f317a832e"
      },
      "execution_count": 11,
      "outputs": [
        {
          "output_type": "stream",
          "name": "stdout",
          "text": [
            "Works correctly for Kenstar-Gentelman pair (Y Detecting)\n"
          ]
        }
      ]
    },
    {
      "cell_type": "code",
      "source": [
        "#Kenstar-Gentelman\n",
        "t_in = np.dot(Y3, W.T)\n",
        "output = np.zeros((1, 49))\n",
        "output = np.where(t_in > 0, 1, -1)\n",
        "if(np.array_equal(output, np.transpose(X3))):\n",
        "  print(\"Works correctly for Kenstar-Gentelman pair (X detecting)\")"
      ],
      "metadata": {
        "id": "pU_szI0mJ6iE",
        "colab": {
          "base_uri": "https://localhost:8080/"
        },
        "outputId": "853561bf-288c-4434-8b64-bbd12ebe9e8e"
      },
      "execution_count": 12,
      "outputs": [
        {
          "output_type": "stream",
          "name": "stdout",
          "text": [
            "Works correctly for Kenstar-Gentelman pair (X detecting)\n"
          ]
        }
      ]
    },
    {
      "cell_type": "code",
      "source": [
        "def flip(input, idx):\n",
        "  l = len(idx)\n",
        "  out = np.copy(input)\n",
        "  for i in range(l):\n",
        "    out[idx[i]] = input[idx[i]]*-1\n",
        "  return out"
      ],
      "metadata": {
        "id": "5dcgLp7-3e-I"
      },
      "execution_count": 13,
      "outputs": []
    },
    {
      "cell_type": "code",
      "source": [
        "import random\n",
        "def noisy_input(input, f, len):\n",
        "  out = input.copy()\n",
        "  n = int((len*f)/100)\n",
        "  idx = random.sample(range(len), n)\n",
        "  out = flip(input, idx)\n",
        "  return out"
      ],
      "metadata": {
        "id": "UGsXAoeF3P7D"
      },
      "execution_count": 14,
      "outputs": []
    },
    {
      "cell_type": "code",
      "source": [
        "def mean_accuracy(list):\n",
        "  sum = 0\n",
        "  for i in list:\n",
        "    sum = sum + i\n",
        "  accuracy = sum/(len(list))\n",
        "  return accuracy"
      ],
      "metadata": {
        "id": "rUShOn0E2Ab9"
      },
      "execution_count": 15,
      "outputs": []
    },
    {
      "cell_type": "code",
      "source": [
        "acc1_xin = []\n",
        "acc2_xin = []\n",
        "acc3_xin = []\n",
        "noise_percentage = 20\n",
        "for i in range(100):\n",
        "  noisy1 = np.transpose(noisy_input(X1, noise_percentage, 49)).copy()\n",
        "  conv1 = False \n",
        "  iter1 = 0\n",
        "  out1 = np.zeros((1, 63))\n",
        "  while ((not conv1) and (iter1 <= 100)):\n",
        "    iter1 = iter1 + 1\n",
        "    y_in1 = np.dot(noisy1, W)\n",
        "    out1 = np.where(y_in1 > 0, 1, -1)\n",
        "    x_in1 = np.dot(out1, W.T)\n",
        "    noisy1 = np.where(x_in1 > 0, 1, -1)\n",
        "    conv1 = np.sum(out1 == Y1) == 63\n",
        "  accuracy1 = ((np.sum(out1 == Y1))/63)*100\n",
        "  acc1_xin.append(accuracy1)\n",
        "\n",
        "\n",
        "  noisy2 = np.transpose(noisy_input(X2, noise_percentage, 49)).copy()\n",
        "  conv2 = False \n",
        "  iter2 = 0\n",
        "  out2 = np.zeros((1, 63))\n",
        "  while ((not conv2) and (iter2 <= 100)):\n",
        "    iter2 = iter2 + 1\n",
        "    y_in2 = np.dot(noisy2, W)\n",
        "    out2 = np.where(y_in2 > 0, 1, -1)\n",
        "    x_in2 = np.dot(out2, W.T)\n",
        "    noisy2 = np.where(x_in2 > 0, 1, -1)\n",
        "    conv2 = np.sum(out2 == Y2) == 63\n",
        "  accuracy2 = ((np.sum(out2 == Y2))/63)*100\n",
        "  acc2_xin.append(accuracy2)\n",
        "\n",
        "  noisy3 = np.transpose(noisy_input(X3, noise_percentage, 49)).copy()\n",
        "  conv3 = False \n",
        "  iter3 = 0\n",
        "  out3 = np.zeros((1, 63))\n",
        "  while ((not conv3) and (iter3 <= 100)):\n",
        "    iter3 = iter3 + 1\n",
        "    y_in3 = np.dot(noisy3, W)\n",
        "    out3 = np.where(y_in3 > 0, 1, -1)\n",
        "    x_in3 = np.dot(out3, W.T)\n",
        "    noisy3 = np.where(x_in3 > 0, 1, -1)\n",
        "    conv3 = np.sum(out3 == Y3) == 63\n",
        "  accuracy3 = ((np.sum(out3 == Y3))/63)*100\n",
        "  acc3_xin.append(accuracy3)\n",
        "\n",
        "\n",
        "\n",
        "print(f'Accuracy of Y-Detecting for Clinton-President pair for {noise_percentage}% noise is = {mean_accuracy(acc1_xin)} %')\n",
        "print(f'Accuracy of Y-Detecting for Hillay-FirstLady pair for {noise_percentage}% noise is = {mean_accuracy(acc2_xin)} %')\n",
        "print(f'Accuracy of Y-Detecting for Kenstar-Gentelman pair for {noise_percentage}% noise is = {mean_accuracy(acc3_xin)} %')"
      ],
      "metadata": {
        "colab": {
          "base_uri": "https://localhost:8080/"
        },
        "id": "WOCtOhaC38ez",
        "outputId": "bb9182d0-6ff5-4198-bf36-d2187bda1437"
      },
      "execution_count": 16,
      "outputs": [
        {
          "output_type": "stream",
          "name": "stdout",
          "text": [
            "Accuracy of Y-Detecting for Clinton-President pair for 20% noise is = 98.55555555555557 %\n",
            "Accuracy of Y-Detecting for Hillay-FirstLady pair for 20% noise is = 99.84126984126983 %\n",
            "Accuracy of Y-Detecting for Kenstar-Gentelman pair for 20% noise is = 99.42857142857142 %\n"
          ]
        }
      ]
    },
    {
      "cell_type": "code",
      "source": [
        "acc1_yin = []\n",
        "acc2_yin = []\n",
        "acc3_yin = []\n",
        "noise_percentage = 20\n",
        "for i in range(100):\n",
        "  noisy1 = np.transpose(noisy_input(Y1.T, noise_percentage, 63)).copy()\n",
        "  conv1 = False \n",
        "  iter1 = 0\n",
        "  out1 = np.zeros((1, 49))\n",
        "  while ((not conv1) and (iter1 <= 100)):\n",
        "    iter1 = iter1 + 1\n",
        "    x_in1 = np.dot(noisy1, W.T)\n",
        "    out1 = np.where(x_in1 > 0, 1, -1)\n",
        "    y_in1 = np.dot(out1, W)\n",
        "    noisy1 = np.where(y_in1 > 0, 1, -1)\n",
        "    conv1 = np.sum(out1 == X1.T) == 49\n",
        "  accuracy1 = ((np.sum(out1 == X1.T))/49)*100\n",
        "  acc1_yin.append(accuracy1)\n",
        "\n",
        "\n",
        "  noisy2 = np.transpose(noisy_input(Y2.T, noise_percentage, 63)).copy()\n",
        "  conv2 = False \n",
        "  iter2 = 0\n",
        "  out2 = np.zeros((1, 49))\n",
        "  while ((not conv2) and (iter2 <= 100)):\n",
        "    iter2 = iter2 + 1\n",
        "    x_in2 = np.dot(noisy2, W.T)\n",
        "    out2 = np.where(x_in2 > 0, 1, -1)\n",
        "    y_in2 = np.dot(out2, W)\n",
        "    noisy2 = np.where(y_in2 > 0, 1, -1)\n",
        "    conv2 = np.sum(out2 == X2.T) == 49\n",
        "  accuracy2 = ((np.sum(out2 == X2.T))/49)*100\n",
        "  acc2_yin.append(accuracy2)\n",
        "\n",
        "  noisy3 = np.transpose(noisy_input(Y3.T, noise_percentage, 63)).copy()\n",
        "  conv3 = False \n",
        "  iter3 = 0\n",
        "  out3 = np.zeros((1, 49))\n",
        "  while ((not conv3) and (iter3 <= 100)):\n",
        "    iter3 = iter3 + 1\n",
        "    x_in3 = np.dot(noisy3, W.T)\n",
        "    out3 = np.where(x_in3 > 0, 1, -1)\n",
        "    y_in3 = np.dot(out3, W)\n",
        "    noisy3 = np.where(y_in3 > 0, 1, -1)\n",
        "    conv3 = np.sum(out3 == X3.T) == 49\n",
        "  accuracy3 = ((np.sum(out3 == X3.T))/49)*100\n",
        "  acc3_yin.append(accuracy3)\n",
        "\n",
        "\n",
        "\n",
        "print(f'Accuracy of X-Detecting for Clinton-President pair for {noise_percentage}% noise is = {mean_accuracy(acc1_yin)} %')\n",
        "print(f'Accuracy of X-Detecting for Hillay-FirstLady pair for {noise_percentage}% noise is = {mean_accuracy(acc2_yin)} %')\n",
        "print(f'Accuracy of X-Detecting for Kenstar-Gentelman pair for {noise_percentage}% noise is = {mean_accuracy(acc3_yin)} %')"
      ],
      "metadata": {
        "colab": {
          "base_uri": "https://localhost:8080/"
        },
        "id": "tDG6mgPY5MZE",
        "outputId": "db8e0874-b7b9-46a8-98b5-a3bedeb526f4"
      },
      "execution_count": 17,
      "outputs": [
        {
          "output_type": "stream",
          "name": "stdout",
          "text": [
            "Accuracy of X-Detecting for Clinton-President pair for 20% noise is = 99.6734693877551 %\n",
            "Accuracy of X-Detecting for Hillay-FirstLady pair for 20% noise is = 99.3265306122449 %\n",
            "Accuracy of X-Detecting for Kenstar-Gentelman pair for 20% noise is = 99.83673469387755 %\n"
          ]
        }
      ]
    },
    {
      "cell_type": "code",
      "source": [
        "Lewisky = np.array([1,0,0,1,1,0,0,1,1,0,0,1,0,1,1,1,1,0,1,1,1,1,1,0,1,0,0,1,1,1,1,0,0,1,1,1,1,0,1,0,1,1,1,1,1,1,0,0,1])\n",
        "x4 = np.where(Lewisky == 0, -1, Lewisky)\n",
        "SweetGirl = np.array([1,0,1,0,0,1,1,1,1,1,0,1,1,1,1,1,0,0,1,0,1,1,1,0,0,1,0,1,1,1,1,0,1,0,0,1,0,0,0,1,1,1,1,1,0,1,0,0,1,1,1,1,0,0,1,0,1,1,0,1,1,0,0])\n",
        "y4 = np.where(SweetGirl == 0, -1, SweetGirl)"
      ],
      "metadata": {
        "id": "6JYoDXSqKslp"
      },
      "execution_count": 18,
      "outputs": []
    },
    {
      "cell_type": "code",
      "source": [
        "X4 = np.transpose([x4])\n",
        "Y4 = np.transpose([y4], (0, 1))"
      ],
      "metadata": {
        "id": "oDfx3OG2M6ID"
      },
      "execution_count": 19,
      "outputs": []
    },
    {
      "cell_type": "code",
      "source": [
        "new_W = np.dot(X1, Y1) + np.dot(X2, Y2) + np.dot(X3, Y3) + np.dot(X4, Y4)"
      ],
      "metadata": {
        "id": "h8DL_d77OxH9"
      },
      "execution_count": 20,
      "outputs": []
    },
    {
      "cell_type": "code",
      "source": [
        "X = [X1, X2, X3, X4]\n",
        "Y = [Y1, Y2, Y3, Y4]"
      ],
      "metadata": {
        "id": "x96Qi7NNQHZ-"
      },
      "execution_count": 21,
      "outputs": []
    },
    {
      "cell_type": "code",
      "source": [
        "pairs = ['Clinton-President', 'Hillay-FirstLady', 'Kenstar-Gentelman', 'Lewisky-SweetGirl']"
      ],
      "metadata": {
        "id": "6fRRHYq8Sp4t"
      },
      "execution_count": 22,
      "outputs": []
    },
    {
      "cell_type": "code",
      "source": [
        "N = 4\n",
        "noOfcorrect = 0\n",
        "for i in range(N):\n",
        "  y_in = np.dot(np.transpose(X[i]), new_W)\n",
        "  out = np.zeros((1, 63))\n",
        "  out = np.where(y_in > 0, 1, -1)\n",
        "  if(np.array_equal(out, Y[i])):\n",
        "    noOfcorrect  = noOfcorrect + 1\n",
        "  else:\n",
        "    print(f'New network can not detect output correctly for {pairs[i]} when X is input')\n",
        "\n",
        "print(f'New network can detect {noOfcorrect} outputs correctly when X is input')"
      ],
      "metadata": {
        "colab": {
          "base_uri": "https://localhost:8080/"
        },
        "id": "QD1StCG3O5F3",
        "outputId": "01e8467b-687f-412f-ca17-f93556def348"
      },
      "execution_count": 23,
      "outputs": [
        {
          "output_type": "stream",
          "name": "stdout",
          "text": [
            "New network can detect 4 outputs correctly when X is input\n"
          ]
        }
      ]
    },
    {
      "cell_type": "code",
      "source": [
        "noOfcorrect = 0\n",
        "for i in range(N):\n",
        "  y_in = np.dot(Y[i], new_W.T)\n",
        "  out = np.zeros((1, 49))\n",
        "  out = np.where(y_in > 0, 1, -1)\n",
        "  if(np.array_equal(out, np.transpose(X[i]))):\n",
        "    noOfcorrect  = noOfcorrect + 1\n",
        "  else:\n",
        "    print(f'New network can not detect output correctly for {pairs[i]} when Y is input')\n",
        "\n",
        "print(f'New network can detect {noOfcorrect} outputs correctly when Y is input')"
      ],
      "metadata": {
        "colab": {
          "base_uri": "https://localhost:8080/"
        },
        "id": "Oayy7WmuReem",
        "outputId": "cd86b155-7305-488c-a76f-4a7b81220d53"
      },
      "execution_count": 24,
      "outputs": [
        {
          "output_type": "stream",
          "name": "stdout",
          "text": [
            "New network can not detect output correctly for Lewisky-SweetGirl when Y is input\n",
            "New network can detect 3 outputs correctly when Y is input\n"
          ]
        }
      ]
    }
  ]
}