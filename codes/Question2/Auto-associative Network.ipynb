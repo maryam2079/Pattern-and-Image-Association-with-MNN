{
  "nbformat": 4,
  "nbformat_minor": 0,
  "metadata": {
    "colab": {
      "name": "HW3_Question2.ipynb",
      "provenance": []
    },
    "kernelspec": {
      "name": "python3",
      "display_name": "Python 3"
    },
    "language_info": {
      "name": "python"
    }
  },
  "cells": [
    {
      "cell_type": "code",
      "execution_count": null,
      "metadata": {
        "id": "w5Bhl4iBYj5Q"
      },
      "outputs": [],
      "source": [
        "import matplotlib.image as mpimg\n",
        "import matplotlib.pyplot as plt\n",
        " \n",
        "# Read Images\n",
        "img1 = mpimg.imread('Image_1.png')\n",
        "img2 = mpimg.imread('Image_2.png')\n",
        "img3 = mpimg.imread('Image_3.png')\n",
        "Inputs = [img1, img2, img3]"
      ]
    },
    {
      "cell_type": "code",
      "source": [
        "from skimage import color\n",
        "import numpy as np\n",
        "def normalize(image):\n",
        "  gray_img = color.rgb2gray(image)\n",
        "  temp = np.where(gray_img > 0, -1, gray_img)\n",
        "  normal_img = np.where(temp == 0, 1, temp)\n",
        "  return normal_img"
      ],
      "metadata": {
        "id": "wtlxlHYFEggq"
      },
      "execution_count": null,
      "outputs": []
    },
    {
      "cell_type": "code",
      "source": [
        "img1_normal = normalize(img1)\n",
        "img2_normal = normalize(img2)\n",
        "img3_normal = normalize(img3)\n",
        "normal_imgs = [img1_normal, img2_normal, img3_normal]"
      ],
      "metadata": {
        "colab": {
          "base_uri": "https://localhost:8080/"
        },
        "id": "2nnlXYc_e_ap",
        "outputId": "0bf24b41-8297-48c4-8595-051ac68ac085"
      },
      "execution_count": null,
      "outputs": [
        {
          "output_type": "stream",
          "name": "stderr",
          "text": [
            "/usr/local/lib/python3.7/dist-packages/ipykernel_launcher.py:4: FutureWarning: Non RGB image conversion is now deprecated. For RGBA images, please use rgb2gray(rgba2rgb(rgb)) instead. In version 0.19, a ValueError will be raised if input image last dimension length is not 3.\n",
            "  after removing the cwd from sys.path.\n"
          ]
        }
      ]
    },
    {
      "cell_type": "code",
      "source": [
        "zeroImg = img1_normal.reshape(35, 1)\n",
        "oneImg = img2_normal.reshape(35, 1)\n",
        "twoImg = img3_normal.reshape(35, 1)"
      ],
      "metadata": {
        "id": "5xnGqN_jPf8D"
      },
      "execution_count": null,
      "outputs": []
    },
    {
      "cell_type": "code",
      "source": [
        "Images = [zeroImg, oneImg, twoImg]\n",
        "N = len(Images)"
      ],
      "metadata": {
        "id": "Mjhg_mRsSotY"
      },
      "execution_count": null,
      "outputs": []
    },
    {
      "cell_type": "code",
      "source": [
        "def Activation(y):\n",
        "  out = 0\n",
        "  if (y > 0):\n",
        "    out = 1\n",
        "  else:\n",
        "      out = -1\n",
        "  return out"
      ],
      "metadata": {
        "id": "jOO2XxOjSeMj"
      },
      "execution_count": null,
      "outputs": []
    },
    {
      "cell_type": "code",
      "source": [
        "def Hebbian_Weight(ins):\n",
        "  n = np.size(ins[0], axis = 0)\n",
        "  W = np.zeros((n, n))\n",
        "  for i in range(N):\n",
        "    ST = np.transpose(ins[i])\n",
        "    W = W + np.dot(ins[i], ST)\n",
        "  return W"
      ],
      "metadata": {
        "id": "2M6uy2B_SP9U"
      },
      "execution_count": null,
      "outputs": []
    },
    {
      "cell_type": "code",
      "source": [
        "def MdHebbian_Weight(ins):\n",
        "  n = np.size(ins[0], axis = 0)\n",
        "  W = np.zeros((n, n))\n",
        "  I = np.identity(n)\n",
        "  for i in range(N):\n",
        "    ST = np.transpose(ins[i])\n",
        "    W = W + np.dot(ins[i], ST)-i*I\n",
        "  return W"
      ],
      "metadata": {
        "id": "VZDErmM3cW87"
      },
      "execution_count": null,
      "outputs": []
    },
    {
      "cell_type": "code",
      "source": [
        "weight1 = Hebbian_Weight(Images)\n",
        "weight2 = MdHebbian_Weight(Images)\n",
        "print(\"Hebbian Weights are:\")\n",
        "print()\n",
        "print(weight1)\n",
        "print(\"Modified Hebbian Weights are:\")\n",
        "print()\n",
        "print(weight2)"
      ],
      "metadata": {
        "id": "hwEOhmDzSvxn",
        "colab": {
          "base_uri": "https://localhost:8080/"
        },
        "outputId": "0e63729e-b326-47f3-e94c-8926c2ba5858"
      },
      "execution_count": null,
      "outputs": [
        {
          "output_type": "stream",
          "name": "stdout",
          "text": [
            "Hebbian Weights are:\n",
            "\n",
            "[[ 3. -1. -3. ... -3. -3.  1.]\n",
            " [-1.  3.  1. ...  1.  1.  1.]\n",
            " [-3.  1.  3. ...  3.  3. -1.]\n",
            " ...\n",
            " [-3.  1.  3. ...  3.  3. -1.]\n",
            " [-3.  1.  3. ...  3.  3. -1.]\n",
            " [ 1.  1. -1. ... -1. -1.  3.]]\n",
            "Modified Hebbian Weights are:\n",
            "\n",
            "[[ 0. -1. -3. ... -3. -3.  1.]\n",
            " [-1.  0.  1. ...  1.  1.  1.]\n",
            " [-3.  1.  0. ...  3.  3. -1.]\n",
            " ...\n",
            " [-3.  1.  3. ...  0.  3. -1.]\n",
            " [-3.  1.  3. ...  3.  0. -1.]\n",
            " [ 1.  1. -1. ... -1. -1.  0.]]\n"
          ]
        }
      ]
    },
    {
      "cell_type": "code",
      "source": [
        "def Hebbian(ins, weight):\n",
        "  #N = len(ins)\n",
        "  n = np.size(ins[0], axis = 0)\n",
        "  test_output = np.zeros((N, 1, n))\n",
        "  for i in range(N):\n",
        "    S = np.transpose(ins[i])\n",
        "    Y = np.dot(S, weight)\n",
        "    for k in range(np.size(Y, axis = 1)):\n",
        "      test_output[i][0][k] = Activation(Y[0, k])\n",
        "  return test_output"
      ],
      "metadata": {
        "id": "xko5NGEzSgsA"
      },
      "execution_count": null,
      "outputs": []
    },
    {
      "cell_type": "code",
      "source": [
        "from matplotlib import pyplot as plt\n",
        "y = Hebbian(Images, weight1)\n",
        "final_output = [[] for i in range(N)]\n",
        "fig = plt.figure(figsize=(6, 6))\n",
        "fig.suptitle('Hebbian Outputs', fontsize = 20)\n",
        "for i in range(N):\n",
        "  final_output[i] = y[i].reshape(7, 5)\n",
        "  fig.add_subplot(1, 3, i+1)\n",
        "  plt.imshow(final_output[i], cmap='Greys')\n",
        "plt.show()\n",
        "\n",
        "fig = plt.figure(figsize=(6, 6))\n",
        "fig.suptitle('Desired Outputs', fontsize = 20)\n",
        "for i in range(N):\n",
        "  fig.add_subplot(1, 3, i+1)\n",
        "  plt.imshow(normal_imgs[i], cmap='Greys')\n",
        "plt.show()\n",
        "\n",
        "fig = plt.figure(figsize=(6, 6))\n",
        "fig.suptitle('Inputs', fontsize = 20)\n",
        "for i in range(N):\n",
        "  fig.add_subplot(1, 3, i+1)\n",
        "  plt.imshow(Inputs[i])\n",
        "plt.show()"
      ],
      "metadata": {
        "colab": {
          "base_uri": "https://localhost:8080/",
          "height": 935
        },
        "id": "uFYRh9qAb1WP",
        "outputId": "20611f52-a0e2-4643-f9da-a0f73e961cab"
      },
      "execution_count": null,
      "outputs": [
        {
          "output_type": "display_data",
          "data": {
            "text/plain": [
              "<Figure size 432x432 with 3 Axes>"
            ],
            "image/png": "[encoded data removed]"
          },
          "metadata": {
            "needs_background": "light"
          }
        },
        {
          "output_type": "display_data",
          "data": {
            "text/plain": [
              "<Figure size 432x432 with 3 Axes>"
            ],
            "image/png": "[encoded data removed]"
          },
          "metadata": {
            "needs_background": "light"
          }
        },
        {
          "output_type": "display_data",
          "data": {
            "text/plain": [
              "<Figure size 432x432 with 3 Axes>"
            ],
            "image/png": "[encoded data removed]"
          },
          "metadata": {
            "needs_background": "light"
          }
        }
      ]
    },
    {
      "cell_type": "code",
      "source": [
        "def flip(input, idx):\n",
        "  l = len(idx)\n",
        "  out = np.copy(input)\n",
        "  for i in range(l):\n",
        "    out[idx[i]] = input[idx[i]]*-1\n",
        "  return out"
      ],
      "metadata": {
        "id": "5_3--ysKfSBx"
      },
      "execution_count": null,
      "outputs": []
    },
    {
      "cell_type": "code",
      "source": [
        "import random\n",
        "def noisy_input(input, f):\n",
        "  N = len(input)\n",
        "  out = input.copy()\n",
        "  n = int((35*f)/100)\n",
        "  for i in range(N):\n",
        "    idx = random.sample(range(35), n)\n",
        "    out[i] = flip(input[i], idx)\n",
        "  return out"
      ],
      "metadata": {
        "id": "Vv9ci_TgfbUB"
      },
      "execution_count": null,
      "outputs": []
    },
    {
      "cell_type": "code",
      "source": [
        "new_input1 = noisy_input(Images, 20)\n",
        "y1 = Hebbian(new_input1, weight1)\n",
        "noisy_final1 = [[] for i in range(N)]\n",
        "fig = plt.figure(figsize=(6, 6))\n",
        "fig.suptitle('Hebbian Outputs, noise = 20%', fontsize = 20)\n",
        "for i in range(N):\n",
        "  noisy_final1[i] = y1[i].reshape(7, 5)\n",
        "  fig.add_subplot(1, 3, i+1)\n",
        "  plt.imshow(noisy_final1[i], cmap='Greys')\n",
        "plt.show()\n",
        "\n",
        "fig = plt.figure(figsize=(6, 6))\n",
        "fig.suptitle('Desired Outputs', fontsize = 20)\n",
        "for i in range(N):\n",
        "  fig.add_subplot(1, 3, i+1)\n",
        "  plt.imshow(normal_imgs[i], cmap='Greys')\n",
        "plt.show()\n",
        "\n",
        "fig = plt.figure(figsize=(6, 6))\n",
        "fig.suptitle('Inputs', fontsize = 20)\n",
        "for i in range(N):\n",
        "  fig.add_subplot(1, 3, i+1)\n",
        "  input = np.array(new_input1[i]).reshape(7, 5)\n",
        "  plt.imshow(input, cmap='Greys')\n",
        "plt.show()"
      ],
      "metadata": {
        "colab": {
          "base_uri": "https://localhost:8080/",
          "height": 935
        },
        "id": "zKfryvkQff-p",
        "outputId": "a48a96de-efc9-4024-a94b-1ae310d9525f"
      },
      "execution_count": null,
      "outputs": [
        {
          "output_type": "display_data",
          "data": {
            "text/plain": [
              "<Figure size 432x432 with 3 Axes>"
            ],
            "image/png": "[encoded data removed]"
          },
          "metadata": {
            "needs_background": "light"
          }
        },
        {
          "output_type": "display_data",
          "data": {
            "text/plain": [
              "<Figure size 432x432 with 3 Axes>"
            ],
            "image/png": "[encoded data removed]"
          },
          "metadata": {
            "needs_background": "light"
          }
        },
        {
          "output_type": "display_data",
          "data": {
            "text/plain": [
              "<Figure size 432x432 with 3 Axes>"
            ],
            "image/png": "[encoded data removed]"
          },
          "metadata": {
            "needs_background": "light"
          }
        }
      ]
    },
    {
      "cell_type": "code",
      "source": [
        "new_input2 = noisy_input(Images, 80)\n",
        "y2 = Hebbian(new_input2, weight1)\n",
        "noisy_final2 = [[] for i in range(N)]\n",
        "fig = plt.figure(figsize=(6, 6))\n",
        "fig.suptitle('Hebbian Outputs, noise = 80%', fontsize = 20)\n",
        "\n",
        "for i in range(N):\n",
        "  noisy_final2[i] = y2[i].reshape(7, 5)\n",
        "  fig.add_subplot(1, 3, i+1)\n",
        "  plt.imshow(noisy_final2[i], cmap='Greys')\n",
        "plt.show()\n",
        "\n",
        "fig = plt.figure(figsize=(6, 6))\n",
        "fig.suptitle('Desired Outputs', fontsize = 20)\n",
        "for i in range(N):\n",
        "  fig.add_subplot(1, 3, i+1)\n",
        "  plt.imshow(normal_imgs[i], cmap='Greys')\n",
        "plt.show()\n",
        "\n",
        "fig = plt.figure(figsize=(6, 6))\n",
        "fig.suptitle('Inputs', fontsize = 20)\n",
        "for i in range(N):\n",
        "  fig.add_subplot(1, 3, i+1)\n",
        "  input = np.array(new_input2[i]).reshape(7, 5)\n",
        "  plt.imshow(input, cmap='Greys')\n",
        "plt.show()"
      ],
      "metadata": {
        "colab": {
          "base_uri": "https://localhost:8080/",
          "height": 935
        },
        "id": "559SVgksg9Mw",
        "outputId": "6a0b389b-f783-4de7-b999-4869df7c92e9"
      },
      "execution_count": null,
      "outputs": [
        {
          "output_type": "display_data",
          "data": {
            "text/plain": [
              "<Figure size 432x432 with 3 Axes>"
            ],
            "image/png": "[encoded data removed]"
          },
          "metadata": {
            "needs_background": "light"
          }
        },
        {
          "output_type": "display_data",
          "data": {
            "text/plain": [
              "<Figure size 432x432 with 3 Axes>"
            ],
            "image/png": "[encoded data removed]"
          },
          "metadata": {
            "needs_background": "light"
          }
        },
        {
          "output_type": "display_data",
          "data": {
            "text/plain": [
              "<Figure size 432x432 with 3 Axes>"
            ],
            "image/png": "[encoded data removed]"
          },
          "metadata": {
            "needs_background": "light"
          }
        }
      ]
    },
    {
      "cell_type": "code",
      "source": [
        "def zero(input, idx):\n",
        "  l = len(idx)\n",
        "  out = np.copy(input)\n",
        "  for i in range(l):\n",
        "    out[idx[i]] = 0\n",
        "  return out"
      ],
      "metadata": {
        "id": "DSjDqwjrhHzI"
      },
      "execution_count": null,
      "outputs": []
    },
    {
      "cell_type": "code",
      "source": [
        "def mis_input(input, f):\n",
        "  N = len(input)\n",
        "  out = input.copy()\n",
        "  n = int((35*f)/100)\n",
        "  for i in range(N):\n",
        "    idx = random.sample(range(35), n)\n",
        "    out[i] = zero(input[i], idx)\n",
        "  return out"
      ],
      "metadata": {
        "id": "9adezibmhPJP"
      },
      "execution_count": null,
      "outputs": []
    },
    {
      "cell_type": "code",
      "source": [
        "new_input3 = mis_input(Images, 20)\n",
        "y3 = Hebbian(new_input3, weight1)\n",
        "noisy_final3 = [[] for i in range(N)]\n",
        "fig = plt.figure(figsize=(6, 6))\n",
        "fig.suptitle('Hebbian Outputs, missing values = 20%', fontsize = 20)\n",
        "\n",
        "for i in range(N):\n",
        "  noisy_final3[i] = y3[i].reshape(7, 5)\n",
        "  fig.add_subplot(1, 3, i+1)\n",
        "  plt.imshow(noisy_final3[i], cmap='Greys')\n",
        "plt.show()\n",
        "\n",
        "fig = plt.figure(figsize=(6, 6))\n",
        "fig.suptitle('Desired Outputs', fontsize = 20)\n",
        "for i in range(N):\n",
        "  fig.add_subplot(1, 3, i+1)\n",
        "  plt.imshow(normal_imgs[i], cmap='Greys')\n",
        "plt.show()\n",
        "\n",
        "fig = plt.figure(figsize=(6, 6))\n",
        "fig.suptitle('Inputs', fontsize = 20)\n",
        "for i in range(N):\n",
        "  fig.add_subplot(1, 3, i+1)\n",
        "  input = np.array(new_input3[i]).reshape(7, 5)\n",
        "  plt.imshow(input, cmap='Greys')\n",
        "plt.show()"
      ],
      "metadata": {
        "colab": {
          "base_uri": "https://localhost:8080/",
          "height": 935
        },
        "id": "fBDhMWDqhYP0",
        "outputId": "8bde63ee-15a2-4cd4-a19a-0d8bf111a7f4"
      },
      "execution_count": null,
      "outputs": [
        {
          "output_type": "display_data",
          "data": {
            "text/plain": [
              "<Figure size 432x432 with 3 Axes>"
            ],
            "image/png": "[encoded data removed]"
          },
          "metadata": {
            "needs_background": "light"
          }
        },
        {
          "output_type": "display_data",
          "data": {
            "text/plain": [
              "<Figure size 432x432 with 3 Axes>"
            ],
            "image/png": "[encoded data removed]"
          },
          "metadata": {
            "needs_background": "light"
          }
        },
        {
          "output_type": "display_data",
          "data": {
            "text/plain": [
              "<Figure size 432x432 with 3 Axes>"
            ],
            "image/png": "[encoded data removed]"
          },
          "metadata": {
            "needs_background": "light"
          }
        }
      ]
    },
    {
      "cell_type": "code",
      "source": [
        "new_input4 = mis_input(Images, 80)\n",
        "y4 = Hebbian(new_input4, weight1)\n",
        "noisy_final4 = [[] for i in range(N)]\n",
        "fig = plt.figure(figsize=(6, 6))\n",
        "fig.suptitle('Hebbian Outputs, missing values = 80%', fontsize = 20)\n",
        "\n",
        "for i in range(N):\n",
        "  noisy_final4[i] = y4[i].reshape(7, 5)\n",
        "  fig.add_subplot(1, 3, i+1)\n",
        "  plt.imshow(noisy_final4[i], cmap='Greys')\n",
        "plt.show()\n",
        "\n",
        "fig = plt.figure(figsize=(6, 6))\n",
        "fig.suptitle('Desired Outputs', fontsize = 20)\n",
        "for i in range(N):\n",
        "  fig.add_subplot(1, 3, i+1)\n",
        "  plt.imshow(normal_imgs[i], cmap='Greys')\n",
        "plt.show()\n",
        "\n",
        "fig = plt.figure(figsize=(6, 6))\n",
        "fig.suptitle('Inputs', fontsize = 20)\n",
        "for i in range(N):\n",
        "  fig.add_subplot(1, 3, i+1)\n",
        "  input = np.array(new_input4[i]).reshape(7, 5)\n",
        "  plt.imshow(input, cmap='Greys')\n",
        "plt.show()"
      ],
      "metadata": {
        "colab": {
          "base_uri": "https://localhost:8080/",
          "height": 935
        },
        "id": "vNiNavpfhpYW",
        "outputId": "a3d6e621-bdbd-44ae-ada8-ac8ac61e41e2"
      },
      "execution_count": null,
      "outputs": [
        {
          "output_type": "display_data",
          "data": {
            "text/plain": [
              "<Figure size 432x432 with 3 Axes>"
            ],
            "image/png": "[encoded data removed]"
          },
          "metadata": {
            "needs_background": "light"
          }
        },
        {
          "output_type": "display_data",
          "data": {
            "text/plain": [
              "<Figure size 432x432 with 3 Axes>"
            ],
            "image/png": "[encoded data removed]"
          },
          "metadata": {
            "needs_background": "light"
          }
        },
        {
          "output_type": "display_data",
          "data": {
            "text/plain": [
              "<Figure size 432x432 with 3 Axes>"
            ],
            "image/png": "[encoded data removed]"
          },
          "metadata": {
            "needs_background": "light"
          }
        }
      ]
    },
    {
      "cell_type": "code",
      "source": [
        ""
      ],
      "metadata": {
        "id": "6Wxup17DhwkB"
      },
      "execution_count": null,
      "outputs": []
    }
  ]
}